{
 "cells": [
  {
   "cell_type": "code",
   "execution_count": 1,
   "metadata": {},
   "outputs": [
    {
     "name": "stderr",
     "output_type": "stream",
     "text": [
      "/home/jovyan/myconda_envs/open_clip/lib/python3.10/site-packages/tqdm/auto.py:22: TqdmWarning: IProgress not found. Please update jupyter and ipywidgets. See https://ipywidgets.readthedocs.io/en/stable/user_install.html\n",
      "  from .autonotebook import tqdm as notebook_tqdm\n"
     ]
    }
   ],
   "source": [
    "import os\n",
    "from random import randint\n",
    "import math\n",
    "\n",
    "import json\n",
    "from tqdm import tqdm\n",
    "import torch\n",
    "import torch.nn as nn\n",
    "import random\n",
    "import numpy as np\n",
    "import itertools\n",
    "import torch.nn.functional as F\n",
    "\n",
    "import matplotlib\n",
    "import matplotlib.pyplot as plt\n",
    "\n",
    "torch.backends.cudnn.benchmark = True\n",
    "device = 'cuda:0'\n"
   ]
  },
  {
   "cell_type": "code",
   "execution_count": 12,
   "metadata": {},
   "outputs": [],
   "source": [
    "def heatmap(data, row_labels, col_labels, ax=None,\n",
    "            cbar_kw=None, cbarlabel=\"\", plot_cbar=True, **kwargs):\n",
    "    \"\"\"\n",
    "    Create a heatmap from a numpy array and two lists of labels.\n",
    "\n",
    "    Parameters\n",
    "    ----------\n",
    "    data\n",
    "        A 2D numpy array of shape (M, N).\n",
    "    row_labels\n",
    "        A list or array of length M with the labels for the rows.\n",
    "    col_labels\n",
    "        A list or array of length N with the labels for the columns.\n",
    "    ax\n",
    "        A `matplotlib.axes.Axes` instance to which the heatmap is plotted.  If\n",
    "        not provided, use current axes or create a new one.  Optional.\n",
    "    cbar_kw\n",
    "        A dictionary with arguments to `matplotlib.Figure.colorbar`.  Optional.\n",
    "    cbarlabel\n",
    "        The label for the colorbar.  Optional.\n",
    "    **kwargs\n",
    "        All other arguments are forwarded to `imshow`.\n",
    "    \"\"\"\n",
    "\n",
    "    if ax is None:\n",
    "        ax = plt.gca()\n",
    "\n",
    "    if cbar_kw is None:\n",
    "        cbar_kw = {}\n",
    "\n",
    "    # Plot the heatmap\n",
    "    im = ax.imshow(data, **kwargs)\n",
    "\n",
    "    # Create colorbar\n",
    "    cbar = None\n",
    "    if plot_cbar:\n",
    "        cbar = ax.figure.colorbar(im, ax=ax, **cbar_kw)\n",
    "        cbar.ax.set_ylabel(cbarlabel, rotation=-90, va=\"bottom\")\n",
    "        cbar.ax.tick_params(labelsize=15)\n",
    "\n",
    "    # Show all ticks and label them with the respective list entries.\n",
    "    ax.set_xticks(np.arange(data.shape[1]), labels=col_labels)\n",
    "    ax.set_yticks(np.arange(data.shape[0]), labels=row_labels)\n",
    "\n",
    "    # Let the horizontal axes labeling appear on top.\n",
    "    ax.tick_params(top=True, bottom=False,\n",
    "                   labeltop=True, labelbottom=False)\n",
    "\n",
    "    # Rotate the tick labels and set their alignment.\n",
    "    plt.setp(ax.get_xticklabels(), rotation=-30, ha=\"right\",\n",
    "             rotation_mode=\"anchor\")\n",
    "\n",
    "    # Turn spines off and create white grid.\n",
    "    ax.spines[:].set_visible(False)\n",
    "\n",
    "    ax.set_xticks(np.arange(data.shape[1]+1)-.5, minor=True)\n",
    "    ax.set_yticks(np.arange(data.shape[0]+1)-.5, minor=True)\n",
    "    ax.grid(which=\"minor\", color=\"w\", linestyle='-', linewidth=3)\n",
    "    ax.tick_params(which=\"minor\", bottom=False, left=False)\n",
    "\n",
    "    return im, cbar\n",
    "\n",
    "def annotate_heatmap(im, data=None, valfmt=\"{x:.2f}\",\n",
    "                     textcolors=(\"black\", \"white\"),\n",
    "                     threshold=None, **textkw):\n",
    "    \"\"\"\n",
    "    A function to annotate a heatmap.\n",
    "\n",
    "    Parameters\n",
    "    ----------\n",
    "    im\n",
    "        The AxesImage to be labeled.\n",
    "    data\n",
    "        Data used to annotate.  If None, the image's data is used.  Optional.\n",
    "    valfmt\n",
    "        The format of the annotations inside the heatmap.  This should either\n",
    "        use the string format method, e.g. \"$ {x:.2f}\", or be a\n",
    "        `matplotlib.ticker.Formatter`.  Optional.\n",
    "    textcolors\n",
    "        A pair of colors.  The first is used for values below a threshold,\n",
    "        the second for those above.  Optional.\n",
    "    threshold\n",
    "        Value in data units according to which the colors from textcolors are\n",
    "        applied.  If None (the default) uses the middle of the colormap as\n",
    "        separation.  Optional.\n",
    "    **kwargs\n",
    "        All other arguments are forwarded to each call to `text` used to create\n",
    "        the text labels.\n",
    "    \"\"\"\n",
    "\n",
    "    if not isinstance(data, (list, np.ndarray)):\n",
    "        data = im.get_array()\n",
    "\n",
    "    # Normalize the threshold to the images color range.\n",
    "    if threshold is not None:\n",
    "        threshold = im.norm(threshold)\n",
    "    else:\n",
    "        threshold = im.norm(data.max())/2.\n",
    "\n",
    "    # Set default alignment to center, but allow it to be\n",
    "    # overwritten by textkw.\n",
    "    kw = dict(horizontalalignment=\"center\",\n",
    "              verticalalignment=\"center\")\n",
    "    kw.update(textkw)\n",
    "\n",
    "    # Get the formatter in case a string is supplied\n",
    "    if isinstance(valfmt, str):\n",
    "        valfmt = matplotlib.ticker.StrMethodFormatter(valfmt)\n",
    "\n",
    "    # Loop over the data and create a `Text` for each \"pixel\".\n",
    "    # Change the text's color depending on the data.\n",
    "    texts = []\n",
    "    for i in range(data.shape[0]):\n",
    "        for j in range(data.shape[1]):\n",
    "            kw.update(color=textcolors[int(im.norm(data[i, j]) > threshold)])\n",
    "            text = im.axes.text(j, i, valfmt(data[i, j], None), **kw)\n",
    "            texts.append(text)\n",
    "\n",
    "    return texts\n",
    "\n",
    "def plot_heatmap(z, filename=None, plot_cbar=True):\n",
    "    N = z.shape[0]\n",
    "    fig, ax = plt.subplots()\n",
    "    im, cbar = heatmap(z, np.arange(N), np.arange(N), ax=ax, plot_cbar=plot_cbar, cmap=\"YlGn\", vmin=-1.0, vmax=1.0)\n",
    "    texts = annotate_heatmap(im, valfmt=\"\")#\"{x:.4f}\")\n",
    "    fig.tight_layout()\n",
    "    if filename is not None:\n",
    "        plt.savefig(f'{filename}.png', format='png', dpi=600, bbox_inches='tight', pad_inches=0.05)\n",
    "        plt.savefig(f'{filename}.pdf', format='pdf', dpi=600, bbox_inches='tight', pad_inches=0.05)\n",
    "    plt.close('all')"
   ]
  },
  {
   "cell_type": "code",
   "execution_count": 13,
   "metadata": {},
   "outputs": [],
   "source": [
    "plot_heatmap(z3_rearranged, filename=os.path.join(f\"TEST_for_cbar_plotting\"), plot_cbar=True)"
   ]
  },
  {
   "cell_type": "markdown",
   "metadata": {},
   "source": [
    "## 1) d >=  N - 1\n",
    "- Theorem 1 - the optimal solution for full-batch forms ETF: report the matrix results by table; N={4, 8, 12, 16, 20}\n",
    "- Theorem 2 - the optimal solution for NcB forms ETF: report the matrix results showing that the batch size 2 for N={4, 8, 12, 16, 20} forms ETF by checking ui T uj = −1/(N − 1) for all $i\\neq j$.\n",
    "- Theorem 3 - the optimal solution for fewer than NcB doesn't form ETF: report the same as Theorem 2, but with the fixed batch selection."
   ]
  },
  {
   "cell_type": "code",
   "execution_count": 3,
   "metadata": {},
   "outputs": [],
   "source": [
    "Ns = [4, 8, 12, 16, 20]\n",
    "ds = [2 * n for n in Ns]\n",
    "lr_fulls = [0.1, 0.5]\n",
    "NUM_STEPS = 10000\n",
    "plot_output_dir = \"output/sim_theorem_plots/d_>=_N_1\"\n",
    "os.makedirs(plot_output_dir, exist_ok=True)"
   ]
  },
  {
   "cell_type": "code",
   "execution_count": 22,
   "metadata": {},
   "outputs": [
    {
     "data": {
      "text/plain": [
       "<Figure size 3600x2400 with 0 Axes>"
      ]
     },
     "metadata": {},
     "output_type": "display_data"
    },
    {
     "data": {
      "image/png": "[encoded data removed]",
      "text/plain": [
       "<Figure size 432x288 with 2 Axes>"
      ]
     },
     "metadata": {
      "needs_background": "light"
     },
     "output_type": "display_data"
    },
    {
     "data": {
      "text/plain": [
       "<Figure size 3600x2400 with 0 Axes>"
      ]
     },
     "metadata": {},
     "output_type": "display_data"
    },
    {
     "data": {
      "image/png": "[encoded data removed]",
      "text/plain": [
       "<Figure size 432x288 with 2 Axes>"
      ]
     },
     "metadata": {
      "needs_background": "light"
     },
     "output_type": "display_data"
    }
   ],
   "source": [
    "for lr_full in lr_fulls:\n",
    "    for N, d in zip(Ns, ds):\n",
    "        output_dir = f\"output/sim_theorem_N{N}_d{d}_lr{lr_full}_s{NUM_STEPS}\"\n",
    "        z_full_batch = torch.load(os.path.join(output_dir, \"u1@v1.T_full_batch_9999.pt\")).detach().cpu().numpy()\n",
    "        z_NcB_mini_batch = torch.load(os.path.join(output_dir, \"u2@v2.T_NcB_mini_batch_9999.pt\")).detach().cpu().numpy()\n",
    "        z_fixed_mini_batch = torch.load(os.path.join(output_dir, \"u3@v3.T_fixed_mini_batch_9999.pt\")).detach().cpu().numpy()\n",
    "        plot_heatmap(z_full_batch)\n",
    "        break\n",
    "        # plot_heatmap(z_full_batch, filename=os.path.join(plot_output_dir, f\"N{N}_d{d}_lr{lr_full}_s{NUM_STEPS}_u1@v1.T_full_batch_9999\"))\n",
    "        # plot_heatmap(z_NcB_mini_batch, filename=os.path.join(plot_output_dir, f\"N{N}_d{d}_lr{lr_full}_s{NUM_STEPS}_u2@v2.T_NcB_mini_batch_9999\"))\n",
    "        # plot_heatmap(z_fixed_mini_batch, filename=os.path.join(plot_output_dir, f\"N{N}_d{d}_lr{lr_full}_s{NUM_STEPS}_u3@v3.T_fixed_mini_batch_9999\"))"
   ]
  },
  {
   "cell_type": "markdown",
   "metadata": {},
   "source": [
    "## 2) d < N - 1\n",
    "- Theorem 1 - same as 1) but with different results\n",
    "- Theorem 2 - same as 1) but with different results\n",
    "- Theorem 3 - same as 1) but with different results"
   ]
  },
  {
   "cell_type": "code",
   "execution_count": 57,
   "metadata": {},
   "outputs": [],
   "source": [
    "ds_p = [n // 2 for n in Ns]\n",
    "plot_output_dir = \"output/sim_theorem_plots/d_<_N_1\"\n",
    "os.makedirs(plot_output_dir, exist_ok=True)"
   ]
  },
  {
   "cell_type": "code",
   "execution_count": 58,
   "metadata": {},
   "outputs": [],
   "source": [
    "for lr_full in lr_fulls:\n",
    "    for N, d in zip(Ns, ds_p):\n",
    "        output_dir = f\"output/sim_theorem_N{N}_d{d}_lr{lr_full}_s{NUM_STEPS}\"\n",
    "        z_full_batch = torch.load(os.path.join(output_dir, \"u1@v1.T_full_batch_9999.pt\")).detach().cpu().numpy()\n",
    "        z_NcB_mini_batch = torch.load(os.path.join(output_dir, \"u2@v2.T_NcB_mini_batch_9999.pt\")).detach().cpu().numpy()\n",
    "        z_fixed_mini_batch = torch.load(os.path.join(output_dir, \"u3@v3.T_fixed_mini_batch_9999.pt\")).detach().cpu().numpy()\n",
    "        # plot_heatmap(z_full_batch, filename=os.path.join(plot_output_dir, f\"N{N}_d{d}_lr{lr_full}_s{NUM_STEPS}_u1@v1.T_full_batch_9999\"))\n",
    "        # plot_heatmap(z_NcB_mini_batch, filename=os.path.join(plot_output_dir, f\"N{N}_d{d}_lr{lr_full}_s{NUM_STEPS}_u2@v2.T_NcB_mini_batch_9999\"))\n",
    "        # plot_heatmap(z_fixed_mini_batch, filename=os.path.join(plot_output_dir, f\"N{N}_d{d}_lr{lr_full}_s{NUM_STEPS}_u3@v3.T_fixed_mini_batch_9999\"))"
   ]
  },
  {
   "cell_type": "code",
   "execution_count": 59,
   "metadata": {},
   "outputs": [
    {
     "data": {
      "text/plain": [
       "array([[ 1.00000000e+00,  3.64988819e-06, -3.97600388e-06,\n",
       "        -9.19680019e-07, -3.42639032e-05,  8.66421124e-06,\n",
       "        -8.07130073e-06,  3.27155249e-06,  8.54947393e-06,\n",
       "         8.23986556e-06, -6.66412188e-06, -1.67407143e-05,\n",
       "        -3.17388003e-06,  5.99570626e-07,  9.34845411e-06,\n",
       "         2.01852072e-06,  8.98809139e-06,  3.31753690e-05,\n",
       "        -1.15372777e-05, -1.00000000e+00],\n",
       "       [ 3.65967344e-06,  9.99999821e-01, -1.89498212e-06,\n",
       "         2.97416841e-06,  2.21665941e-05, -4.92289189e-07,\n",
       "         3.42198837e-06, -6.79299819e-06, -2.21204555e-05,\n",
       "         2.55203850e-06, -4.61499712e-06, -1.63590903e-06,\n",
       "         1.00465577e-05,  3.44739396e-06, -1.14350250e-05,\n",
       "        -9.99999940e-01, -9.86948908e-06, -1.65239351e-06,\n",
       "         1.42378321e-05, -1.77222103e-06],\n",
       "       [-3.95951201e-06, -1.89005868e-06,  9.99999881e-01,\n",
       "         2.34598101e-05,  2.17111528e-06,  9.10342806e-07,\n",
       "        -2.14519196e-06,  3.25598563e-07,  5.85495116e-07,\n",
       "        -5.46812544e-06, -9.99999881e-01,  4.56785529e-06,\n",
       "         4.00879463e-09, -5.77930564e-07,  4.13840468e-07,\n",
       "         4.75799470e-06, -1.66318077e-05, -3.53405085e-06,\n",
       "        -1.06606449e-05,  6.52360040e-06],\n",
       "       [-9.22461538e-07,  2.98849568e-06,  2.34094678e-05,\n",
       "         9.99999940e-01, -9.99999821e-01,  2.76607238e-06,\n",
       "         1.29103628e-05, -3.03530169e-06,  1.02006030e-04,\n",
       "         7.71902069e-06, -2.44647026e-06, -3.86004576e-05,\n",
       "         2.87142739e-05, -1.22856936e-05, -1.95168559e-05,\n",
       "        -2.25359945e-05,  2.71546628e-06, -1.23254984e-04,\n",
       "         7.85851898e-06,  3.44750151e-05],\n",
       "       [-3.42937055e-05,  2.21785849e-05,  2.19311369e-06,\n",
       "        -9.99999940e-01,  9.99999940e-01, -2.84819253e-05,\n",
       "        -5.97979306e-06,  3.87394175e-05,  1.24706194e-05,\n",
       "         1.96065466e-05, -2.31872655e-05,  2.89202603e-06,\n",
       "        -2.97773522e-06, -1.02183396e-04, -7.81672497e-06,\n",
       "        -2.63922925e-06,  1.23175210e-04, -2.63800484e-06,\n",
       "        -1.47631845e-05,  7.54506971e-07],\n",
       "       [ 8.62328307e-06, -4.95931602e-07,  8.83825692e-07,\n",
       "         2.76337869e-06, -2.85368696e-05,  9.99999881e-01,\n",
       "         1.87753744e-06, -4.66007259e-06,  6.76440277e-06,\n",
       "         1.79948154e-06, -2.51165091e-07, -1.21934036e-05,\n",
       "        -9.99999881e-01, -7.31999262e-06, -4.85850978e-06,\n",
       "        -8.91343007e-06,  9.51944276e-06,  3.02464250e-05,\n",
       "         3.19020660e-06,  3.33147659e-06],\n",
       "       [-8.05779018e-06,  3.43988495e-06, -2.13616272e-06,\n",
       "         1.29509208e-05, -5.97827921e-06,  1.85112765e-06,\n",
       "         1.00000000e+00,  5.52724669e-06, -4.74724493e-06,\n",
       "        -3.95942607e-06,  1.09849798e-05, -1.83413795e-05,\n",
       "        -2.99051931e-06,  5.61783145e-06,  7.93148411e-06,\n",
       "        -1.37676252e-05, -1.03128132e-05,  8.13306815e-06,\n",
       "        -1.00000000e+00,  1.11261033e-05],\n",
       "       [ 3.30135481e-06, -6.81345182e-06,  3.24171339e-07,\n",
       "        -3.02032890e-06,  3.87356922e-05, -4.66723714e-06,\n",
       "         5.49748029e-06,  1.00000000e+00, -2.27096371e-05,\n",
       "        -1.38650557e-05, -3.97482563e-06, -1.00000000e+00,\n",
       "         1.18724010e-05, -1.77530308e-06, -1.99290116e-06,\n",
       "         7.22762707e-07, -5.83570136e-06, -3.11955700e-05,\n",
       "         1.81740033e-05,  1.70027979e-05],\n",
       "       [ 8.55414328e-06, -2.21134997e-05,  5.90133595e-07,\n",
       "         1.01978243e-04,  1.24894805e-05,  6.75282718e-06,\n",
       "        -4.75466231e-06, -2.26612792e-05,  1.00000000e+00,\n",
       "        -1.40862594e-05,  1.03832770e-06,  2.34493245e-06,\n",
       "         7.10032373e-06, -1.00000000e+00, -3.10760834e-06,\n",
       "        -3.49739003e-06, -7.24415731e-05,  3.57152953e-06,\n",
       "        -5.71616692e-06, -6.04255604e-07],\n",
       "       [ 8.25476673e-06,  2.60292313e-06, -5.46911679e-06,\n",
       "         7.73697047e-06,  1.96270357e-05,  1.78932589e-06,\n",
       "        -3.95324514e-06, -1.38650557e-05, -1.40589964e-05,\n",
       "         9.99999940e-01, -4.15203033e-07,  2.62502613e-06,\n",
       "         4.90128195e-06,  2.44812327e-06, -9.99999940e-01,\n",
       "         1.12036569e-05, -4.55372316e-07, -7.07191566e-06,\n",
       "        -7.63416756e-06, -9.50386675e-06],\n",
       "       [-6.68684925e-06, -4.60599313e-06, -9.99999881e-01,\n",
       "        -2.46831587e-06, -2.31639897e-05, -2.51345426e-07,\n",
       "         1.09944776e-05, -3.97402619e-06,  1.04159312e-06,\n",
       "        -4.14647644e-07,  9.99999940e-01, -9.23098071e-07,\n",
       "        -6.70509507e-07, -1.04877370e-06,  5.46895399e-06,\n",
       "         1.72301611e-06,  3.19596711e-06,  1.69550785e-05,\n",
       "         1.84023372e-06,  4.12281952e-06],\n",
       "       [-1.67705166e-05, -1.63967036e-06,  4.53575512e-06,\n",
       "        -3.85930798e-05,  2.89575132e-06, -1.22085930e-05,\n",
       "        -1.83470038e-05, -1.00000000e+00,  2.29643183e-06,\n",
       "         2.62502613e-06, -8.70144845e-07,  1.00000000e+00,\n",
       "         5.00277065e-06,  2.21863411e-05,  1.32364330e-05,\n",
       "         7.72486601e-06,  3.09104034e-05,  6.11995620e-06,\n",
       "        -5.32808963e-06, -3.51934500e-06],\n",
       "       [-3.14407771e-06,  1.00325378e-05,  9.23783983e-09,\n",
       "         2.87272142e-05, -2.93303174e-06, -9.99999940e-01,\n",
       "        -3.00640136e-06,  1.18724010e-05,  7.09091137e-06,\n",
       "         4.89383137e-06, -6.71753583e-07,  4.97296833e-06,\n",
       "         9.99999881e-01, -6.50437050e-06, -1.83468524e-06,\n",
       "        -6.23226072e-07, -3.05732538e-05, -9.20702769e-06,\n",
       "        -2.05954120e-06, -8.78055562e-06],\n",
       "       [ 5.77218884e-07,  3.45185572e-06, -5.63909168e-07,\n",
       "        -1.22935335e-05, -1.02203885e-04, -7.31410046e-06,\n",
       "         5.58504053e-06, -1.76785250e-06, -9.99999881e-01,\n",
       "         2.50772791e-06, -1.06416758e-06,  2.20447801e-05,\n",
       "        -6.53789812e-06,  9.99999881e-01,  1.46865295e-05,\n",
       "         2.21514183e-05, -3.62969035e-06,  7.25013379e-05,\n",
       "         4.86928866e-06, -8.54094014e-06],\n",
       "       [ 9.31865179e-06, -1.14877721e-05,  4.14832243e-07,\n",
       "        -1.95273551e-05, -7.83721407e-06, -4.85580404e-06,\n",
       "         7.91785260e-06, -1.97800000e-06, -3.10506948e-06,\n",
       "        -9.99999940e-01,  5.46950923e-06,  1.32215318e-05,\n",
       "        -1.84213582e-06,  1.47163319e-05,  1.00000000e+00,\n",
       "        -2.28902309e-06,  6.71841326e-06,  8.23940525e-07,\n",
       "         3.66581389e-06, -8.06944172e-06],\n",
       "       [ 2.03342188e-06, -9.99999940e-01,  4.78159018e-06,\n",
       "        -2.25711428e-05, -2.58707519e-06, -8.87148781e-06,\n",
       "        -1.37428242e-05,  7.46977094e-07, -3.48411027e-06,\n",
       "         1.11794425e-05,  1.74313595e-06,  7.67829988e-06,\n",
       "        -6.67929555e-07,  2.21439677e-05, -2.26480870e-06,\n",
       "         9.99999940e-01,  1.80847269e-06,  9.74686736e-06,\n",
       "        -3.91745334e-06, -3.91347021e-06],\n",
       "       [ 8.95828907e-06, -9.88056308e-06, -1.66397604e-05,\n",
       "         2.73057117e-06,  1.23115606e-04,  9.46065211e-06,\n",
       "        -1.02978101e-05, -5.80589904e-06, -7.25084246e-05,\n",
       "        -4.62822896e-07,  3.20136678e-06,  3.09849092e-05,\n",
       "        -3.05136509e-05, -3.57008571e-06,  6.74076500e-06,\n",
       "         1.77121979e-06,  9.99999940e-01, -9.99999821e-01,\n",
       "        -7.74953787e-06, -3.27420275e-05],\n",
       "       [ 3.31455667e-05, -1.69347322e-06, -3.56521309e-06,\n",
       "        -1.23240286e-04, -2.63800484e-06,  3.02754142e-05,\n",
       "         8.11247719e-06, -3.12626253e-05,  3.56387568e-06,\n",
       "        -7.05701450e-06,  1.69757550e-05,  6.09760446e-06,\n",
       "        -9.20702769e-06,  7.25013379e-05,  8.01588783e-07,\n",
       "         9.78784556e-06, -1.00000000e+00,  9.99999940e-01,\n",
       "         9.94968650e-06, -9.30177339e-06],\n",
       "       [-1.16157316e-05,  1.42425888e-05, -1.06624157e-05,\n",
       "         7.83583073e-06, -1.48384461e-05,  3.25979818e-06,\n",
       "        -1.00000000e+00,  1.81283140e-05, -5.69799568e-06,\n",
       "        -7.64530159e-06,  1.84246539e-06, -5.31220303e-06,\n",
       "        -2.08880351e-06,  4.83093072e-06,  3.66577228e-06,\n",
       "        -3.93253549e-06, -7.74037744e-06,  9.93307549e-06,\n",
       "         1.00000000e+00,  8.56226234e-06],\n",
       "       [-1.00000000e+00, -1.78478751e-06,  6.51960363e-06,\n",
       "         3.44573346e-05,  7.32155229e-07,  3.29054933e-06,\n",
       "         1.10911851e-05,  1.70027979e-05, -5.92135677e-07,\n",
       "        -9.51131733e-06,  4.12058125e-06, -3.53424616e-06,\n",
       "        -8.78055562e-06, -8.55584130e-06, -8.06944172e-06,\n",
       "        -3.92092079e-06, -3.27420275e-05, -9.39118036e-06,\n",
       "         8.50616016e-06,  1.00000000e+00]], dtype=float32)"
      ]
     },
     "execution_count": 59,
     "metadata": {},
     "output_type": "execute_result"
    }
   ],
   "source": []
  },
  {
   "cell_type": "code",
   "execution_count": 21,
   "metadata": {},
   "outputs": [
    {
     "data": {
      "text/plain": [
       "tensor([[ 1.0000, -0.1429, -0.1429, -0.1429, -0.1429, -0.1429, -0.1429, -0.1429],\n",
       "        [-0.1429,  1.0000, -0.1429, -0.1429, -0.1429, -0.1429, -0.1429, -0.1429],\n",
       "        [-0.1429, -0.1429,  1.0000, -0.1429, -0.1429, -0.1429, -0.1429, -0.1429],\n",
       "        [-0.1429, -0.1429, -0.1429,  1.0000, -0.1429, -0.1429, -0.1429, -0.1429],\n",
       "        [-0.1429, -0.1429, -0.1429, -0.1429,  1.0000, -0.1429, -0.1429, -0.1429],\n",
       "        [-0.1429, -0.1429, -0.1429, -0.1429, -0.1429,  1.0000, -0.1429, -0.1429],\n",
       "        [-0.1429, -0.1429, -0.1429, -0.1429, -0.1429, -0.1429,  1.0000, -0.1429],\n",
       "        [-0.1429, -0.1429, -0.1429, -0.1429, -0.1429, -0.1429, -0.1429,  1.0000]])"
      ]
     },
     "execution_count": 21,
     "metadata": {},
     "output_type": "execute_result"
    }
   ],
   "source": [
    "batch_selection = ''\n",
    "N = 8\n",
    "d = 16\n",
    "lr_full = 0.5\n",
    "NUM_STEPS = 10000\n",
    "num_steps_factor = 2\n",
    "batch_size_list = [2]\n",
    "B = 2\n",
    "step = NUM_STEPS * num_steps_factor - 1\n",
    "output_dir = f\"output/hst_N4,8,12/hst_N{N}_d{d}_lr{lr_full}_s{NUM_STEPS}x{num_steps_factor}_all_Bs{batch_size_list}\"\n",
    "z1 = torch.load(f\"{output_dir}/z1_full_batch_{step}.pt\")\n",
    "z1"
   ]
  },
  {
   "cell_type": "code",
   "execution_count": 23,
   "metadata": {},
   "outputs": [
    {
     "data": {
      "text/plain": [
       "tensor([[ 1.0000, -0.0781,  0.2062,  0.1980, -0.2062,  0.0781, -0.1980, -1.0000],\n",
       "        [-0.0781,  1.0000,  0.2877,  0.0157, -0.2877, -1.0000, -0.0157,  0.0781],\n",
       "        [ 0.2062,  0.2877,  1.0000,  0.3862, -1.0000, -0.2877, -0.3862, -0.2062],\n",
       "        [ 0.1980,  0.0157,  0.3862,  1.0000, -0.3862, -0.0157, -1.0000, -0.1980],\n",
       "        [-0.2062, -0.2877, -1.0000, -0.3862,  1.0000,  0.2877,  0.3862,  0.2062],\n",
       "        [ 0.0781, -1.0000, -0.2877, -0.0157,  0.2877,  1.0000,  0.0157, -0.0781],\n",
       "        [-0.1980, -0.0157, -0.3862, -1.0000,  0.3862,  0.0157,  1.0000,  0.1980],\n",
       "        [-1.0000,  0.0781, -0.2062, -0.1980,  0.2062, -0.0781,  0.1980,  1.0000]])"
      ]
     },
     "execution_count": 23,
     "metadata": {},
     "output_type": "execute_result"
    }
   ],
   "source": [
    "batch_selection = 'f'\n",
    "N = 8\n",
    "d = 16\n",
    "lr_full = 0.5\n",
    "NUM_STEPS = 10000\n",
    "num_steps_factor = 2\n",
    "batch_size_list = [2]\n",
    "B = 2\n",
    "step = NUM_STEPS * num_steps_factor - 1\n",
    "output_dir = f\"output/hst_N4,8,12/hst_N{N}_d{d}_lr{lr_full}_s{NUM_STEPS}x{num_steps_factor}_all_Bs{batch_size_list}\"\n",
    "z3 = torch.load(f\"{output_dir}/z3_{batch_selection}_mini_batch_B{B}_{step}.pt\")\n",
    "z3"
   ]
  },
  {
   "cell_type": "code",
   "execution_count": 22,
   "metadata": {},
   "outputs": [
    {
     "data": {
      "text/plain": [
       "tensor([[ 1.0000, -0.1550, -0.1338, -0.1896, -0.1718, -0.1146, -0.1399, -0.0954],\n",
       "        [-0.1550,  1.0000, -0.1467, -0.1201, -0.1642, -0.1314, -0.1472, -0.1350],\n",
       "        [-0.1338, -0.1467,  1.0000, -0.1577, -0.1255, -0.1456, -0.1217, -0.1690],\n",
       "        [-0.1896, -0.1201, -0.1577,  1.0000, -0.1432, -0.1236, -0.1262, -0.1397],\n",
       "        [-0.1718, -0.1642, -0.1255, -0.1432,  1.0000, -0.0939, -0.1164, -0.1852],\n",
       "        [-0.1146, -0.1314, -0.1456, -0.1236, -0.0939,  1.0000, -0.2320, -0.1590],\n",
       "        [-0.1399, -0.1472, -0.1217, -0.1262, -0.1164, -0.2320,  1.0000, -0.1168],\n",
       "        [-0.0954, -0.1350, -0.1690, -0.1397, -0.1852, -0.1590, -0.1168,  1.0000]])"
      ]
     },
     "execution_count": 22,
     "metadata": {},
     "output_type": "execute_result"
    }
   ],
   "source": [
    "batch_selection = 'bg'\n",
    "N = 8\n",
    "d = 16\n",
    "lr_full = 0.5\n",
    "NUM_STEPS = 10000\n",
    "num_steps_factor = 2\n",
    "batch_size_list = [2]\n",
    "B = 2\n",
    "step = NUM_STEPS * num_steps_factor - 1\n",
    "output_dir = f\"output/hst_N4,8,12/hst_N{N}_d{d}_lr{lr_full}_s{NUM_STEPS}x{num_steps_factor}_all_Bs{batch_size_list}\"\n",
    "z3 = torch.load(f\"{output_dir}/z3_{batch_selection}_mini_batch_B{B}_{step}.pt\")\n",
    "z3"
   ]
  },
  {
   "cell_type": "code",
   "execution_count": 8,
   "metadata": {},
   "outputs": [
    {
     "data": {
      "text/plain": [
       "tensor([[ 1.0000,  0.0664, -0.0664, -1.0000],\n",
       "        [ 0.0664,  1.0000, -1.0000, -0.0664],\n",
       "        [-0.0664, -1.0000,  1.0000,  0.0664],\n",
       "        [-1.0000, -0.0664,  0.0664,  1.0000]])"
      ]
     },
     "execution_count": 8,
     "metadata": {},
     "output_type": "execute_result"
    }
   ],
   "source": [
    "z3_rearranged = torch.tensor([\n",
    "    [z3[0][0], z3[0][2], z3[0][3], z3[0][1]],\n",
    "    [z3[1][3], z3[1][1], z3[1][0], z3[1][2]],\n",
    "    [z3[2][1], z3[2][3], z3[2][2], z3[2][0]],\n",
    "    [z3[3][2], z3[3][0], z3[3][1], z3[3][3]],\n",
    "])\n",
    "z3_rearranged"
   ]
  },
  {
   "cell_type": "code",
   "execution_count": 5,
   "metadata": {},
   "outputs": [],
   "source": [
    "plot_heatmap(z3_rearranged, filename=os.path.join(f\"N{N}_d{d}_lr{lr_full}_s{NUM_STEPS*num_steps_factor}_z3_fixed_mini_batch_B{B}_{batch_selection}_w_cbar\"), plot_cbar=True)\n",
    "plot_heatmap(z3_rearranged, filename=os.path.join(f\"N{N}_d{d}_lr{lr_full}_s{NUM_STEPS*num_steps_factor}_z3_fixed_mini_batch_B{B}_{batch_selection}_wo_cbar\"), plot_cbar=False)"
   ]
  },
  {
   "cell_type": "code",
   "execution_count": null,
   "metadata": {},
   "outputs": [],
   "source": [
    "tensor([[ 1.0000,  0.0601, -0.0601, -1.0000],\n",
    "        [ 0.0601,  1.0000, -1.0000, -0.0601],\n",
    "        [-0.0601, -1.0000,  1.0000,  0.0601],\n",
    "        [-1.0000, -0.0601,  0.0601,  1.0000]])"
   ]
  },
  {
   "cell_type": "code",
   "execution_count": 30,
   "metadata": {},
   "outputs": [
    {
     "data": {
      "text/plain": [
       "tensor([[ 1.0000,  0.0601, -0.0601, -1.0000],\n",
       "        [ 0.0601,  1.0000, -1.0000, -0.0601],\n",
       "        [-0.0601, -1.0000,  1.0000,  0.0601],\n",
       "        [-1.0000, -0.0601,  0.0601,  1.0000]])"
      ]
     },
     "execution_count": 30,
     "metadata": {},
     "output_type": "execute_result"
    }
   ],
   "source": [
    "batch_selection = 'bg'\n",
    "N = 4\n",
    "d = 2\n",
    "lr_full = 0.5\n",
    "NUM_STEPS = 10000\n",
    "num_steps_factor = 2\n",
    "batch_size_list = [2]\n",
    "B = 2\n",
    "step = NUM_STEPS * num_steps_factor - 1\n",
    "output_dir = f\"output/hst_N4,8,12/hst_N{N}_d{d}_lr{lr_full}_s{NUM_STEPS}x{num_steps_factor}_all_Bs{batch_size_list}\"\n",
    "z3 = torch.load(f\"{output_dir}/z3_{batch_selection}_mini_batch_B{B}_{step}.pt\")\n",
    "z3"
   ]
  },
  {
   "cell_type": "code",
   "execution_count": 2,
   "metadata": {},
   "outputs": [
    {
     "data": {
      "text/plain": [
       "tensor([[ 0.6684, -0.3566, -0.8485, -0.4413,  0.1195,  0.2812, -0.8315,  0.1319,\n",
       "          0.0434,  0.3283, -0.1800, -0.2479],\n",
       "        [ 0.6809,  0.7381,  0.0643,  0.2847, -0.6372, -0.3988, -0.2007, -0.2318,\n",
       "         -0.7623,  0.4882,  0.0931,  0.8020],\n",
       "        [ 0.0676,  0.3381,  0.3571,  0.1905, -0.7282, -0.5247,  0.4837, -0.0605,\n",
       "         -0.5115, -0.4004,  0.1362,  0.2334],\n",
       "        [ 0.2445,  0.3681,  0.1964,  0.6349, -0.1707,  0.4776, -0.2377, -0.7906,\n",
       "         -0.3061,  0.3533, -0.8487, -0.1477],\n",
       "        [ 0.2172, -0.0132, -0.2500,  0.0200,  0.5648,  0.5074, -0.4858, -0.0534,\n",
       "          0.3172,  0.6322, -0.1722,  0.0482],\n",
       "        [-0.1827, -0.1731,  0.1614,  0.2890,  0.0908,  0.4956,  0.1265, -0.3707,\n",
       "          0.1914, -0.2267, -0.6359, -0.6312],\n",
       "        [-0.7995,  0.0097,  0.6971,  0.2786,  0.5709,  0.1959,  0.7664,  0.1195,\n",
       "          0.6202, -0.1973,  0.1840, -0.0317],\n",
       "        [ 0.1790,  0.2608,  0.1667, -0.1294, -0.8034, -0.8388,  0.4751,  0.3077,\n",
       "         -0.5359, -0.4712,  0.5615,  0.4345],\n",
       "        [ 0.3271, -0.6578, -0.8245, -0.6784,  0.3736,  0.2379, -0.5673,  0.4713,\n",
       "          0.4054,  0.0272,  0.0971, -0.4170],\n",
       "        [-0.0363,  0.1875,  0.1278,  0.1627,  0.5330,  0.3001, -0.0740,  0.0194,\n",
       "          0.3229,  0.5277,  0.0795,  0.3031],\n",
       "        [ 0.0665, -0.8044, -0.6610, -0.9589,  0.0304, -0.3457,  0.0353,  0.9327,\n",
       "          0.3705, -0.6657,  0.6459, -0.3941],\n",
       "        [ 0.1548,  0.3537,  0.3053,  0.2638, -0.7216, -0.3873,  0.3438, -0.2056,\n",
       "         -0.5469, -0.2988, -0.0560,  0.1595]])"
      ]
     },
     "execution_count": 2,
     "metadata": {},
     "output_type": "execute_result"
    }
   ],
   "source": [
    "torch.load(\"/home/jovyan/open_clip/src/utils/output/se_exps_N4,8,12/se_exp2_sgd_N12_d6_lr0.1_s10000x1_all_Bs[2]/z1_full_batch_9999.pt\")"
   ]
  },
  {
   "cell_type": "code",
   "execution_count": null,
   "metadata": {},
   "outputs": [],
   "source": []
  }
 ],
 "metadata": {
  "interpreter": {
   "hash": "48defea0b9b6545756d55def773cb3bda5b512947d91e800fd60e78a2863a79b"
  },
  "kernelspec": {
   "display_name": "Python 3.10.6 ('open_clip')",
   "language": "python",
   "name": "python3"
  },
  "language_info": {
   "codemirror_mode": {
    "name": "ipython",
    "version": 3
   },
   "file_extension": ".py",
   "mimetype": "text/x-python",
   "name": "python",
   "nbconvert_exporter": "python",
   "pygments_lexer": "ipython3",
   "version": "3.10.6"
  },
  "orig_nbformat": 4
 },
 "nbformat": 4,
 "nbformat_minor": 2
}
